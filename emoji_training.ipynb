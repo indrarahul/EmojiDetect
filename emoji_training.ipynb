{
 "cells": [
  {
   "cell_type": "code",
   "execution_count": 1,
   "metadata": {},
   "outputs": [
    {
     "name": "stderr",
     "output_type": "stream",
     "text": [
      "Using TensorFlow backend.\n"
     ]
    }
   ],
   "source": [
    "import pandas as pd\n",
    "import numpy as np\n",
    "import matplotlib.pyplot as plt\n",
    "from keras import layers\n",
    "from keras.layers import Dense, Input, Activation,ZeroPadding2D,BatchNormalization,Flatten,Conv2D\n",
    "from keras.layers import AveragePooling2D, MaxPooling2D, Dropout,GlobalMaxPooling2D, GlobalAveragePooling2D\n",
    "from keras.utils import np_utils\n",
    "from keras.models import Sequential\n",
    "from keras.callbacks import ModelCheckpoint\n",
    "import keras.backend as k"
   ]
  },
  {
   "cell_type": "code",
   "execution_count": 2,
   "metadata": {},
   "outputs": [],
   "source": [
    "#Let's create CNN Model\n",
    "def keras_model(img_x_shape,img_y_shape):\n",
    "    num_of_classes = 12\n",
    "    model = Sequential()\n",
    "    model.add(Conv2D(32,(5,5), input_shape=(img_x_shape,img_y_shape,1),activation='relu'))\n",
    "    model.add(MaxPooling2D(pool_size=(2,2),strides=(2,2),padding='same'))\n",
    "    model.add(Conv2D(64, (5,5),activation='sigmoid'))\n",
    "    model.add(MaxPooling2D(pool_size=(5,5), strides=(5,5),padding='same'))\n",
    "    model.add(Flatten())\n",
    "    model.add(Dense(1024,activation='relu'))\n",
    "    model.add(Dropout(0.6))\n",
    "    model.add(Dense(num_of_classes,activation='softmax'))\n",
    "    \n",
    "    model.compile(loss='categorical_crossentropy',optimizer='adam',metrics=['accuracy'])\n",
    "    filepath = \"emoji.h5\"\n",
    "    chckpnt = ModelCheckpoint(filepath,monitor='val_acc',verbose=1,save_best_only=True,mode='max')\n",
    "    callbacks_list = [chckpnt]\n",
    "    \n",
    "    return model, callbacks_list"
   ]
  },
  {
   "cell_type": "code",
   "execution_count": 3,
   "metadata": {},
   "outputs": [],
   "source": [
    "df = pd.read_csv(\"train_foo.csv\")\n",
    "df = np.array(df)\n",
    "np.random.shuffle(df)\n",
    "x = df[:,1:]\n",
    "y = df[:,0]\n",
    "index_part = int(0.8*x.shape[0])"
   ]
  },
  {
   "cell_type": "code",
   "execution_count": 4,
   "metadata": {},
   "outputs": [],
   "source": [
    "#Data Preprocesing\n",
    "y = y.reshape(y.shape[0],1) #Reshaping y for y_train & y_test\n",
    "x_train = x[0:index_part,:]\n",
    "x_train = x_train / 255.\n",
    "y_train = y[0:index_part:,:]\n",
    "y_train = y_train.T\n",
    "\n",
    "x_test = x[index_part:,:]\n",
    "x_test = x_test / 255.\n",
    "y_test = y[index_part:,:]\n",
    "y_test = y_test.T"
   ]
  },
  {
   "cell_type": "code",
   "execution_count": 5,
   "metadata": {},
   "outputs": [],
   "source": [
    "#Define Image pixel shape\n",
    "img_x_shape = 50\n",
    "img_y_shape = 50"
   ]
  },
  {
   "cell_type": "code",
   "execution_count": 6,
   "metadata": {},
   "outputs": [],
   "source": [
    "#Make categorical output for Softmax\n",
    "y_train = np_utils.to_categorical(y_train)\n",
    "y_test = np_utils.to_categorical(y_test)"
   ]
  },
  {
   "cell_type": "code",
   "execution_count": 7,
   "metadata": {},
   "outputs": [],
   "source": [
    "#Reshape the y_train and y_test vectors\n",
    "y_train = y_train.reshape(y_train.shape[1],y_train.shape[2])\n",
    "y_test = y_test.reshape(y_test.shape[1],y_test.shape[2])"
   ]
  },
  {
   "cell_type": "code",
   "execution_count": 8,
   "metadata": {},
   "outputs": [],
   "source": [
    "#Reshape the x_train and x_test as 50X50 pixel Image \n",
    "x_train = x_train.reshape(x_train.shape[0],50,50,1)\n",
    "x_test = x_test.reshape(x_test.shape[0],50,50,1)"
   ]
  },
  {
   "cell_type": "code",
   "execution_count": 9,
   "metadata": {},
   "outputs": [
    {
     "name": "stdout",
     "output_type": "stream",
     "text": [
      "WARNING:tensorflow:From /home/btech_temp/anaconda3/lib/python3.7/site-packages/tensorflow/python/framework/op_def_library.py:263: colocate_with (from tensorflow.python.framework.ops) is deprecated and will be removed in a future version.\n",
      "Instructions for updating:\n",
      "Colocations handled automatically by placer.\n",
      "WARNING:tensorflow:From /home/btech_temp/anaconda3/lib/python3.7/site-packages/keras/backend/tensorflow_backend.py:3445: calling dropout (from tensorflow.python.ops.nn_ops) with keep_prob is deprecated and will be removed in a future version.\n",
      "Instructions for updating:\n",
      "Please use `rate` instead of `keep_prob`. Rate should be set to `rate = 1 - keep_prob`.\n",
      "WARNING:tensorflow:From /home/btech_temp/anaconda3/lib/python3.7/site-packages/tensorflow/python/ops/math_ops.py:3066: to_int32 (from tensorflow.python.ops.math_ops) is deprecated and will be removed in a future version.\n",
      "Instructions for updating:\n",
      "Use tf.cast instead.\n",
      "Train on 10559 samples, validate on 2640 samples\n",
      "Epoch 1/10\n",
      "10559/10559 [==============================] - 12s 1ms/step - loss: 0.5879 - acc: 0.8276 - val_loss: 0.0119 - val_acc: 0.9966\n",
      "\n",
      "Epoch 00001: val_acc improved from -inf to 0.99659, saving model to emoji.h5\n",
      "Epoch 2/10\n",
      "10559/10559 [==============================] - 12s 1ms/step - loss: 0.0158 - acc: 0.9962 - val_loss: 0.0018 - val_acc: 1.0000\n",
      "\n",
      "Epoch 00002: val_acc improved from 0.99659 to 1.00000, saving model to emoji.h5\n",
      "Epoch 3/10\n",
      "10559/10559 [==============================] - 11s 1ms/step - loss: 0.0047 - acc: 0.9991 - val_loss: 3.3506e-04 - val_acc: 1.0000\n",
      "\n",
      "Epoch 00003: val_acc did not improve from 1.00000\n",
      "Epoch 4/10\n",
      "10559/10559 [==============================] - 11s 1ms/step - loss: 0.0018 - acc: 0.9998 - val_loss: 1.5536e-04 - val_acc: 1.0000\n",
      "\n",
      "Epoch 00004: val_acc did not improve from 1.00000\n",
      "Epoch 5/10\n",
      "10559/10559 [==============================] - 11s 1ms/step - loss: 0.0015 - acc: 0.9999 - val_loss: 6.3690e-05 - val_acc: 1.0000\n",
      "\n",
      "Epoch 00005: val_acc did not improve from 1.00000\n",
      "Epoch 6/10\n",
      "10559/10559 [==============================] - 11s 1ms/step - loss: 6.1407e-04 - acc: 1.0000 - val_loss: 4.4929e-05 - val_acc: 1.0000\n",
      "\n",
      "Epoch 00006: val_acc did not improve from 1.00000\n",
      "Epoch 7/10\n",
      "10559/10559 [==============================] - 11s 1ms/step - loss: 3.1780e-04 - acc: 1.0000 - val_loss: 4.1655e-05 - val_acc: 1.0000\n",
      "\n",
      "Epoch 00007: val_acc did not improve from 1.00000\n",
      "Epoch 8/10\n",
      "10559/10559 [==============================] - 11s 1ms/step - loss: 2.3059e-04 - acc: 1.0000 - val_loss: 1.7996e-05 - val_acc: 1.0000\n",
      "\n",
      "Epoch 00008: val_acc did not improve from 1.00000\n",
      "Epoch 9/10\n",
      "10559/10559 [==============================] - 11s 1ms/step - loss: 0.0083 - acc: 0.9983 - val_loss: 2.3332e-04 - val_acc: 1.0000\n",
      "\n",
      "Epoch 00009: val_acc did not improve from 1.00000\n",
      "Epoch 10/10\n",
      "10559/10559 [==============================] - 11s 1ms/step - loss: 0.0025 - acc: 0.9992 - val_loss: 2.3321e-05 - val_acc: 1.0000\n",
      "\n",
      "Epoch 00010: val_acc did not improve from 1.00000\n",
      "CNN Error: 0.00%\n"
     ]
    }
   ],
   "source": [
    "#Let's train\n",
    "model, callbacks_list = keras_model(img_x_shape,img_y_shape)\n",
    "model.fit(x_train,y_train, validation_data=(x_test,y_test),epochs=10,batch_size=64,callbacks=callbacks_list)\n",
    "scores = model.evaluate(x_test,y_test,verbose=0)\n",
    "print(\"CNN Error: %.2f%%\" %(100-scores[1]*100))\n",
    "\n",
    "model.save('emoji.h5')"
   ]
  },
  {
   "cell_type": "code",
   "execution_count": null,
   "metadata": {},
   "outputs": [],
   "source": []
  }
 ],
 "metadata": {
  "kernelspec": {
   "display_name": "Python 3",
   "language": "python",
   "name": "python3"
  },
  "language_info": {
   "codemirror_mode": {
    "name": "ipython",
    "version": 3
   },
   "file_extension": ".py",
   "mimetype": "text/x-python",
   "name": "python",
   "nbconvert_exporter": "python",
   "pygments_lexer": "ipython3",
   "version": "3.7.1"
  }
 },
 "nbformat": 4,
 "nbformat_minor": 2
}
